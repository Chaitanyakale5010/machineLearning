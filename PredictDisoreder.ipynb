import pandas as pd 
import numpy as np
from sklearn.model_selection import train_test_split
from sklearn.linear_model import LogisticRegression
from sklearn.metrics import accuracy_score,confusion_matrix,recall_score,f1_score,classification_report
l
# Data collection
data = 'Heart.csv'
df = pd.read_csv(data)

# Removing the duplicate rows
df = df.drop_duplicates(df)

# Classtfication of data 
x = df.drop('DEATH_EVENT',axis = 1)
y = df['DEATH_EVENT']

# SPlliting your all the data in trainig and testing 
# genrally we put our data in ratio of 8:2 (Training :Testing)
# meaning , 80% for training and 20% for testting out of 100%

x_train,x_test,y_train,y_test = train_test_split(x,y,test_size = 0.2,random_state = 42)

# Model initialization / defination 
model = LogisticRegression()

# Learning the model about data
model.fit(x_train,y_train)

# check how is is performing on testing data
y_pred  = model.predict(x_test)
print(y_pred)

# Average of all the predction through logistic regression
mean1=np.mean(y_pred)
print("The mean of all prediction is :",mean)

# Model evaluation 
accuracy = accuracy_score(y_test,y_pred)
print("The accuracy of the model to predict heart fail or not is:",accuracy*100)

class_report = classification_report(y_test,y_pred)
print("The classification report is:")
print(class_report)

# testting the model about new data 
new_data = pd.read_csv('heart_testing_data.csv')
# splitting the model
x_new_test = new_data.drop(columns=['DEATH_EVENT'])
y_actual = new_data['DEATH_EVENT']

# predictions 
y_new_pred=model.predict(x_new_test)
print("The new predictions are :")
print(y_new_pred)

# Average of all the predictions is :
mean2 = np.mean(y_new_pred)
print("Mean of all the predictions is :",mean2)

# Model avaluation 
accuracy = accuracy_score(y_actual,y_new_pred)
print("The accuracy of predciction without taining the model about this data is:",accuracy*100)

conf_score = confusion_matrix(y_actual,y_new_pred)
print("The confusion matrix is:")
print(conf_score)
